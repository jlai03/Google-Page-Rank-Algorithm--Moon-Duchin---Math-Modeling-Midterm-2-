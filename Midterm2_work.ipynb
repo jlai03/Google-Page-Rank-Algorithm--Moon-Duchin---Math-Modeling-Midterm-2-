{
  "nbformat": 4,
  "nbformat_minor": 0,
  "metadata": {
    "colab": {
      "name": "Midterm2-work.ipynb",
      "provenance": [],
      "collapsed_sections": []
    },
    "kernelspec": {
      "name": "python3",
      "display_name": "Python 3"
    }
  },
  "cells": [
    {
      "cell_type": "code",
      "metadata": {
        "id": "43UESOI1WS39",
        "colab_type": "code",
        "colab": {}
      },
      "source": [
        "%config InlineBackend.figure_formats = ['svg']\n",
        "from random import sample\n",
        "import numpy as np\n",
        "import matplotlib.pyplot as plt\n",
        "from mpl_toolkits import mplot3d\n",
        "from numpy import linalg as LA"
      ],
      "execution_count": 0,
      "outputs": []
    },
    {
      "cell_type": "code",
      "metadata": {
        "id": "W2Q8RNvBWr9s",
        "colab_type": "code",
        "outputId": "123fd85a-790e-4db6-91b8-01325e97545e",
        "colab": {
          "base_uri": "https://localhost:8080/",
          "height": 86
        }
      },
      "source": [
        "M = np.matrix([[2, 1], [1, 1]])\n",
        "evals, evecs = LA.eig(M)\n",
        "print('eigenvalues:',evals)\n",
        "print('corresponding eigenvectors are the columns:')\n",
        "print(evecs)"
      ],
      "execution_count": 0,
      "outputs": [
        {
          "output_type": "stream",
          "text": [
            "eigenvalues: [2.61803399 0.38196601]\n",
            "corresponding eigenvectors are the columns:\n",
            "[[ 0.85065081 -0.52573111]\n",
            " [ 0.52573111  0.85065081]]\n"
          ],
          "name": "stdout"
        }
      ]
    },
    {
      "cell_type": "code",
      "metadata": {
        "id": "0OoS19tLdoiy",
        "colab_type": "code",
        "outputId": "812dcec6-152e-4453-c78b-4ca9a4f6abc1",
        "colab": {
          "base_uri": "https://localhost:8080/",
          "height": 173
        }
      },
      "source": [
        "# PART 2 - Eigenvalues \n",
        "\n",
        "# Transition Matrix \n",
        "S = np.matrix([\n",
        "     #    v1     v2      v3      v4       v5\n",
        "    [     0,  (1/3),  (1/3),  (1/3),      0], # v1\n",
        "    [ (1/3),      0,  (1/3),      0,  (1/3)], # v2\n",
        "    [ (1/3),  (1/3),      0,  (1/3),      0], # v3\n",
        "    [ (1/2),      0,  (1/2),      0,      0], # v4\n",
        "    [     0,      1,      0,      0,      0], # v1\n",
        "\n",
        "])\n",
        "\n",
        "evals, evecs = LA.eig(S.T)\n",
        "print('eigenvalues:',evals)\n",
        "print('corresponding eigenvectors are the columns:')\n",
        "print( np.round(np.real(evecs),6))\n"
      ],
      "execution_count": 0,
      "outputs": [
        {
          "output_type": "stream",
          "text": [
            "eigenvalues: [ 1.        +0.00000000e+00j  0.43425855+0.00000000e+00j\n",
            " -0.76759188+0.00000000e+00j -0.33333333+6.79869978e-17j\n",
            " -0.33333333-6.79869978e-17j]\n",
            "corresponding eigenvectors are the columns:\n",
            "[[ 0.53033   0.305515 -0.364938 -0.301477 -0.301477]\n",
            " [ 0.53033  -0.61103   0.729876  0.177421  0.177421]\n",
            " [ 0.53033   0.305515 -0.364938  0.656318  0.656318]\n",
            " [ 0.353553  0.469022  0.316955 -0.354842 -0.354842]\n",
            " [ 0.176777 -0.469022 -0.316955 -0.177421 -0.177421]]\n"
          ],
          "name": "stdout"
        }
      ]
    },
    {
      "cell_type": "code",
      "metadata": {
        "id": "BC92-I2zla7n",
        "colab_type": "code",
        "outputId": "1223618b-6051-49dc-a8d4-66d39d371cb9",
        "colab": {
          "base_uri": "https://localhost:8080/",
          "height": 1000
        }
      },
      "source": [
        "# PART 2 - Power Method \n",
        "import cvxpy as cp\n",
        "\n",
        "S = np.matrix([\n",
        "     #    v1     v2      v3      v4       v5\n",
        "    [     0,  (1/3),  (1/3),  (1/3),      0], # v1\n",
        "    [ (1/3),      0,  (1/3),      0,  (1/3)], # v2\n",
        "    [ (1/3),  (1/3),      0,  (1/3),      0], # v3\n",
        "    [ (1/2),      0,  (1/2),      0,      0], # v4\n",
        "    [     0,      1,      0,      0,      0], # v5\n",
        "\n",
        "])\n",
        "\n",
        "# def iterate():\n",
        "#     n = 0\n",
        "#     x = np.matrix([\n",
        "#                  [0],\n",
        "#                  [0], \n",
        "#                  [0],\n",
        "#                  [0],\n",
        "#                  [1]\n",
        "#                  ])\n",
        "#     while n < 100:\n",
        "#       n+= 1\n",
        "#       a = S.T**n@x\n",
        "#       b = S.T**(n+1)@x\n",
        "#       if np.allclose(a,b):\n",
        "#         print('iteration: ', n)\n",
        "#         print(a)\n",
        "#         print(' ')\n",
        "#         break;\n",
        "\n",
        "def iterate(P, v):\n",
        "    converge = 0\n",
        "    while converge < 301:\n",
        "      init = v\n",
        "      v = P.T @ init\n",
        "      converge += 1\n",
        "      print('n: ', converge)\n",
        "      if (np.allclose(init,v)):\n",
        "        print('iteration: ', converge)\n",
        "        return v\n",
        "\n",
        "\n",
        "\n",
        "\n",
        "v = np.matrix([\n",
        "                 [0],\n",
        "                 [0], \n",
        "                 [0],\n",
        "                 [0],\n",
        "                 [1]\n",
        "                 ])\n",
        "iterate(S,v )\n",
        "\n",
        "\n",
        "# v1 = 47\n",
        "# v2 = 49 \n",
        "# v3 = 47 \n",
        "# v4 = 48 \n",
        "# v5 = 50 \n",
        "\n"
      ],
      "execution_count": 0,
      "outputs": [
        {
          "output_type": "stream",
          "text": [
            "n:  1\n",
            "n:  2\n",
            "n:  3\n",
            "n:  4\n",
            "n:  5\n",
            "n:  6\n",
            "n:  7\n",
            "n:  8\n",
            "n:  9\n",
            "n:  10\n",
            "n:  11\n",
            "n:  12\n",
            "n:  13\n",
            "n:  14\n",
            "n:  15\n",
            "n:  16\n",
            "n:  17\n",
            "n:  18\n",
            "n:  19\n",
            "n:  20\n",
            "n:  21\n",
            "n:  22\n",
            "n:  23\n",
            "n:  24\n",
            "n:  25\n",
            "n:  26\n",
            "n:  27\n",
            "n:  28\n",
            "n:  29\n",
            "n:  30\n",
            "n:  31\n",
            "n:  32\n",
            "n:  33\n",
            "n:  34\n",
            "n:  35\n",
            "n:  36\n",
            "n:  37\n",
            "n:  38\n",
            "n:  39\n",
            "n:  40\n",
            "n:  41\n",
            "n:  42\n",
            "n:  43\n",
            "n:  44\n",
            "n:  45\n",
            "n:  46\n",
            "n:  47\n",
            "n:  48\n",
            "n:  49\n",
            "n:  50\n",
            "n:  51\n",
            "iteration:  51\n"
          ],
          "name": "stdout"
        },
        {
          "output_type": "execute_result",
          "data": {
            "text/plain": [
              "matrix([[0.24999962],\n",
              "        [0.25000077],\n",
              "        [0.24999962],\n",
              "        [0.166667  ],\n",
              "        [0.083333  ]])"
            ]
          },
          "metadata": {
            "tags": []
          },
          "execution_count": 3
        }
      ]
    },
    {
      "cell_type": "code",
      "metadata": {
        "id": "tOAewEwSQppB",
        "colab_type": "code",
        "outputId": "ef1b1d98-6658-47f9-dc00-847164376992",
        "colab": {
          "base_uri": "https://localhost:8080/",
          "height": 589
        }
      },
      "source": [
        "# PART 3 - directed graph \n",
        "import cvxpy as cp\n",
        "\n",
        "S = np.matrix([\n",
        "     #    v1     v2      v3      v4       v5\n",
        "    [     0,  (1/3),  (1/3),  (1/3),      0], # v1\n",
        "    [     0,      0,      0,      0,      1], # v2\n",
        "    [     0,      1,      0,      0,      0], # v3\n",
        "    [     0,      0,      1,      0,      0], # v4\n",
        "    [ (1/5),  (1/5),  (1/5),  (1/5),  (1/5)]  # v5\n",
        "\n",
        "])\n",
        "\n",
        "N = np.matrix([\n",
        "     #    v1     v2      v3      v4       v5\n",
        "    [ (1/5),  (1/5),  (1/5),  (1/5),  (1/5)], # v1\n",
        "    [ (1/5),  (1/5),  (1/5),  (1/5),  (1/5)], # v2\n",
        "    [ (1/5),  (1/5),  (1/5),  (1/5),  (1/5)], # v3\n",
        "    [ (1/5),  (1/5),  (1/5),  (1/5),  (1/5)], # v4\n",
        "    [ (1/5),  (1/5),  (1/5),  (1/5),  (1/5)]  # v5\n",
        "\n",
        "])\n",
        "\n",
        "prob = 1\n",
        "\n",
        "# New Transition Vector \n",
        "P = (prob * N) + ( (1 - prob) * S)\n",
        "\n",
        "print(P)\n",
        "print('')\n",
        "\n",
        "\n",
        "# def iterate(P):\n",
        "#     n = 0\n",
        "#     x = np.matrix([\n",
        "#                  [1],\n",
        "#                  [0], \n",
        "#                  [0],\n",
        "#                  [0],\n",
        "#                  [0]\n",
        "#                  ])\n",
        "#     while n < 100:\n",
        "#       n+= 1\n",
        "#       a = P.T**n@x\n",
        "#       b = P.T**(n+1)@x\n",
        "#       if np.allclose(a,b):\n",
        "#         print('iteration: ', n)\n",
        "#         print(a)\n",
        "#         print(' ')\n",
        "#         break;\n",
        "\n",
        "\n",
        "\n",
        "def iterate(P, v):\n",
        "    converge = 0\n",
        "    while converge < 301:\n",
        "      print('n: ', converge)\n",
        "      print(v)\n",
        "      init = v\n",
        "      v = P.T @ init\n",
        "      converge += 1\n",
        "      if (np.allclose(init,v)):\n",
        "        print('n: ', converge)\n",
        "        print(v)\n",
        "        return v\n",
        "\n",
        "\n",
        "\n",
        "v = np.matrix([\n",
        "                 [1],\n",
        "                 [0], \n",
        "                 [0],\n",
        "                 [0],\n",
        "                 [0]\n",
        "                 ])\n",
        "iterate(P,v)\n",
        "\n",
        "#eigenvalues \n",
        "evals, evecs = LA.eig(P.T)\n",
        "print('eigenvalues:',evals)\n",
        "print('corresponding eigenvectors are the columns:')\n",
        "print( np.round(np.real(evecs),6))\n",
        "\n"
      ],
      "execution_count": 0,
      "outputs": [
        {
          "output_type": "stream",
          "text": [
            "[[0.2 0.2 0.2 0.2 0.2]\n",
            " [0.2 0.2 0.2 0.2 0.2]\n",
            " [0.2 0.2 0.2 0.2 0.2]\n",
            " [0.2 0.2 0.2 0.2 0.2]\n",
            " [0.2 0.2 0.2 0.2 0.2]]\n",
            "\n",
            "n:  0\n",
            "[[1]\n",
            " [0]\n",
            " [0]\n",
            " [0]\n",
            " [0]]\n",
            "n:  1\n",
            "[[0.2]\n",
            " [0.2]\n",
            " [0.2]\n",
            " [0.2]\n",
            " [0.2]]\n",
            "n:  2\n",
            "[[0.2]\n",
            " [0.2]\n",
            " [0.2]\n",
            " [0.2]\n",
            " [0.2]]\n",
            "eigenvalues: [ 0.00000000e+00+0.00000000e+00j  1.00000000e+00+0.00000000e+00j\n",
            "  1.38777878e-17+0.00000000e+00j -1.01025814e-33+1.16738655e-33j\n",
            " -1.01025814e-33-1.16738655e-33j]\n",
            "corresponding eigenvectors are the columns:\n",
            "[[-0.894427  0.447214 -0.223607  0.672436  0.672436]\n",
            " [ 0.223607  0.447214 -0.223607 -0.168109 -0.168109]\n",
            " [ 0.223607  0.447214 -0.223607  0.261108  0.261108]\n",
            " [ 0.223607  0.447214 -0.223607 -0.591631 -0.591631]\n",
            " [ 0.223607  0.447214  0.894427 -0.173805 -0.173805]]\n"
          ],
          "name": "stdout"
        }
      ]
    }
  ]
}